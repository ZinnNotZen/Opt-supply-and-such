{
 "cells": [
  {
   "cell_type": "code",
   "execution_count": 1,
   "id": "f55acdbd-c387-4675-8957-06c4fded145c",
   "metadata": {},
   "outputs": [],
   "source": [
    "import pandas as pd\n",
    "import pulp\n",
    "from pulp import LpProblem, LpMinimize, LpVariable, PULP_CBC_CMD"
   ]
  },
  {
   "cell_type": "code",
   "execution_count": 2,
   "id": "bcd168af-3206-4d01-a689-318d9ffe399d",
   "metadata": {},
   "outputs": [],
   "source": [
    "hubs = pd.read_csv(\"Hubs-Hubs.csv\")\n",
    "focus_cities = pd.read_csv(\"Focus Cities-Focus Cities.csv\")\n",
    "demand_with_CountryCity = pd.read_csv(\"Centeres-Centers.csv\")\n",
    "costs_df = pd.read_csv(\"Costs.csv\")"
   ]
  },
  {
   "cell_type": "code",
   "execution_count": 3,
   "id": "21eacfdd-074a-4df6-8f7e-07f19103feac",
   "metadata": {},
   "outputs": [
    {
     "name": "stdout",
     "output_type": "stream",
     "text": [
      "City                       object\n",
      "Current tons               object\n",
      "Capacity (monthly tons)    object\n",
      "dtype: object\n",
      "City                       object\n",
      "Airport                    object\n",
      "Capacity (monthly tons)    object\n",
      "dtype: object\n"
     ]
    }
   ],
   "source": [
    "# Checking types\n",
    "print (hubs.dtypes)\n",
    "print (focus_cities.dtypes)"
   ]
  },
  {
   "cell_type": "code",
   "execution_count": 4,
   "id": "9605b3a0-e86e-4a7d-ab79-66eaa19e3ee0",
   "metadata": {},
   "outputs": [
    {
     "name": "stdout",
     "output_type": "stream",
     "text": [
      "['95,650' '44,350']\n",
      "['85,000' '19,000' '36,000']\n"
     ]
    }
   ],
   "source": [
    "# checking to see if there are any commas\n",
    "print(hubs['Capacity (monthly tons)'].unique())\n",
    "print(focus_cities['Capacity (monthly tons)'].unique())"
   ]
  },
  {
   "cell_type": "code",
   "execution_count": 5,
   "id": "f32d3ae0-5f7f-4e07-b144-a315ab8ea1ea",
   "metadata": {},
   "outputs": [],
   "source": [
    "# Remove commas from the Capacity columns and convert them to numeric\n",
    "hubs['Capacity (monthly tons)'] = hubs['Capacity (monthly tons)'].replace({',': ''}, regex=True)\n",
    "focus_cities['Capacity (monthly tons)'] = focus_cities['Capacity (monthly tons)'].replace({',': ''}, regex=True)\n",
    "\n",
    "# Convert to numeric values (the coercion will handle non-numeric values by setting them as NaN)\n",
    "hubs['Capacity (monthly tons)'] = pd.to_numeric(hubs['Capacity (monthly tons)'], errors='coerce')\n",
    "focus_cities['Capacity (monthly tons)'] = pd.to_numeric(focus_cities['Capacity (monthly tons)'], errors='coerce')"
   ]
  },
  {
   "cell_type": "code",
   "execution_count": 6,
   "id": "6e13f45d-958f-4faa-9775-466a77c132b7",
   "metadata": {},
   "outputs": [
    {
     "name": "stdout",
     "output_type": "stream",
     "text": [
      "City                       object\n",
      "Current tons               object\n",
      "Capacity (monthly tons)     int64\n",
      "dtype: object\n",
      "City                       object\n",
      "Airport                    object\n",
      "Capacity (monthly tons)     int64\n",
      "dtype: object\n"
     ]
    }
   ],
   "source": [
    "# Making sure the types are correct\n",
    "print (hubs.dtypes)\n",
    "print (focus_cities.dtypes)"
   ]
  },
  {
   "cell_type": "code",
   "execution_count": 7,
   "id": "965608ef-abe0-43eb-9059-c7d7be5b1762",
   "metadata": {},
   "outputs": [
    {
     "name": "stdout",
     "output_type": "stream",
     "text": [
      "                                 City  Capacity (monthly tons)\n",
      "0  Cincinnati/Northern Kentucky (CVG)                    95650\n",
      "1           Alliance Fort Worth (AFW)                    44350\n",
      "                                City  Capacity (monthly tons)\n",
      "0                   Leipzig, Germany                    85000\n",
      "1                   Hyderabad, India                    19000\n",
      "2  San Bernardino, CA, United States                    36000\n"
     ]
    }
   ],
   "source": [
    "# Creating dfs that only have the infomration we need\n",
    "hub_supply = hubs[[\"City\", \"Capacity (monthly tons)\"]]\n",
    "city_supply = focus_cities[[\"City\", \"Capacity (monthly tons)\"]]\n",
    "\n",
    "print (hub_supply.head())\n",
    "print (city_supply.head())"
   ]
  },
  {
   "cell_type": "code",
   "execution_count": 8,
   "id": "b1eace0f-9283-4199-a422-1aaa5445d4c1",
   "metadata": {},
   "outputs": [
    {
     "name": "stdout",
     "output_type": "stream",
     "text": [
      "                                 City  Capacity (monthly tons)_x  \\\n",
      "0  Cincinnati/Northern Kentucky (CVG)                    95650.0   \n",
      "1           Alliance Fort Worth (AFW)                    44350.0   \n",
      "2                    Leipzig, Germany                        NaN   \n",
      "3                    Hyderabad, India                        NaN   \n",
      "4   San Bernardino, CA, United States                        NaN   \n",
      "\n",
      "   Capacity (monthly tons)_y  \n",
      "0                        NaN  \n",
      "1                        NaN  \n",
      "2                    85000.0  \n",
      "3                    19000.0  \n",
      "4                    36000.0  \n"
     ]
    }
   ],
   "source": [
    "# Now perform a merge\n",
    "df_supply = pd.merge(hub_supply, city_supply, on= 'City', how='outer')\n",
    "print (df_supply)"
   ]
  },
  {
   "cell_type": "code",
   "execution_count": 9,
   "id": "46bad58b-245f-4492-a265-ecf1d1890517",
   "metadata": {},
   "outputs": [
    {
     "name": "stdout",
     "output_type": "stream",
     "text": [
      "                                 City  Capacity (monthly tons)\n",
      "0  Cincinnati/Northern Kentucky (CVG)                  95650.0\n",
      "1           Alliance Fort Worth (AFW)                  44350.0\n",
      "2                    Leipzig, Germany                  85000.0\n",
      "3                    Hyderabad, India                  19000.0\n",
      "4   San Bernardino, CA, United States                  36000.0\n"
     ]
    }
   ],
   "source": [
    "# Combine the two capacity columns, filling NaN values with 0\n",
    "df_supply['Capacity (monthly tons)'] = df_supply['Capacity (monthly tons)_x'].fillna(0) + df_supply['Capacity (monthly tons)_y'].fillna(0)\n",
    "df_supply = df_supply.drop(columns=['Capacity (monthly tons)_x', 'Capacity (monthly tons)_y'])\n",
    "print (df_supply)"
   ]
  },
  {
   "cell_type": "code",
   "execution_count": 10,
   "id": "ad738e07-3ef1-492d-a233-848e00010b31",
   "metadata": {
    "scrolled": true
   },
   "outputs": [
    {
     "data": {
      "text/plain": [
       "Country                  object\n",
       "City                     object\n",
       "Demand (monthly tons)    object\n",
       "dtype: object"
      ]
     },
     "execution_count": 10,
     "metadata": {},
     "output_type": "execute_result"
    }
   ],
   "source": [
    "demand_with_CountryCity.dtypes"
   ]
  },
  {
   "cell_type": "code",
   "execution_count": 11,
   "id": "2a1d0cfe-c70a-4c0e-8b9b-06bc8989363d",
   "metadata": {},
   "outputs": [
    {
     "data": {
      "text/plain": [
       "Country                  object\n",
       "City                     object\n",
       "Demand (monthly tons)     int64\n",
       "dtype: object"
      ]
     },
     "execution_count": 11,
     "metadata": {},
     "output_type": "execute_result"
    }
   ],
   "source": [
    "# get rid of potential commas and change demand to a int\n",
    "demand_with_CountryCity['Demand (monthly tons)'] = demand_with_CountryCity['Demand (monthly tons)'].replace({',': ''}, regex=True)\n",
    "\n",
    "# Convert to numeric values (the coercion will handle non-numeric values by setting them as NaN)\n",
    "demand_with_CountryCity['Demand (monthly tons)'] = pd.to_numeric(demand_with_CountryCity['Demand (monthly tons)'], errors='coerce')\n",
    "\n",
    "demand_with_CountryCity.dtypes"
   ]
  },
  {
   "cell_type": "code",
   "execution_count": 12,
   "id": "3ee346c7-1e83-4fef-8700-5ec07747872a",
   "metadata": {},
   "outputs": [
    {
     "data": {
      "text/html": [
       "<div>\n",
       "<style scoped>\n",
       "    .dataframe tbody tr th:only-of-type {\n",
       "        vertical-align: middle;\n",
       "    }\n",
       "\n",
       "    .dataframe tbody tr th {\n",
       "        vertical-align: top;\n",
       "    }\n",
       "\n",
       "    .dataframe thead th {\n",
       "        text-align: right;\n",
       "    }\n",
       "</style>\n",
       "<table border=\"1\" class=\"dataframe\">\n",
       "  <thead>\n",
       "    <tr style=\"text-align: right;\">\n",
       "      <th></th>\n",
       "      <th>City</th>\n",
       "      <th>Demand (monthly tons)</th>\n",
       "    </tr>\n",
       "  </thead>\n",
       "  <tbody>\n",
       "    <tr>\n",
       "      <th>0</th>\n",
       "      <td>Paris</td>\n",
       "      <td>6500</td>\n",
       "    </tr>\n",
       "    <tr>\n",
       "      <th>1</th>\n",
       "      <td>Cologne</td>\n",
       "      <td>640</td>\n",
       "    </tr>\n",
       "    <tr>\n",
       "      <th>2</th>\n",
       "      <td>Hanover</td>\n",
       "      <td>180</td>\n",
       "    </tr>\n",
       "    <tr>\n",
       "      <th>3</th>\n",
       "      <td>Bangalore</td>\n",
       "      <td>9100</td>\n",
       "    </tr>\n",
       "    <tr>\n",
       "      <th>4</th>\n",
       "      <td>Coimbatore</td>\n",
       "      <td>570</td>\n",
       "    </tr>\n",
       "  </tbody>\n",
       "</table>\n",
       "</div>"
      ],
      "text/plain": [
       "         City  Demand (monthly tons)\n",
       "0       Paris                   6500\n",
       "1     Cologne                    640\n",
       "2     Hanover                    180\n",
       "3   Bangalore                   9100\n",
       "4  Coimbatore                    570"
      ]
     },
     "execution_count": 12,
     "metadata": {},
     "output_type": "execute_result"
    }
   ],
   "source": [
    "df_demand = demand_with_CountryCity[[\"City\", \"Demand (monthly tons)\"]]\n",
    "df_demand.head()"
   ]
  },
  {
   "cell_type": "code",
   "execution_count": 13,
   "id": "50fa2100-4bca-45eb-af6e-005e7d3590fc",
   "metadata": {},
   "outputs": [
    {
     "name": "stdout",
     "output_type": "stream",
     "text": [
      "95650.0\n",
      "6500\n",
      "<class 'dict'>\n"
     ]
    }
   ],
   "source": [
    "# Turn supply and demand into a dictionary\n",
    "supply = dict(zip(df_supply[\"City\"], df_supply[\"Capacity (monthly tons)\"]))\n",
    "demand = dict(zip(df_demand[\"City\"], df_demand[\"Demand (monthly tons)\"]))\n",
    "\n",
    "# Testing\n",
    "print(supply[\"Cincinnati/Northern Kentucky (CVG)\"])  # Should print 95650\n",
    "print(demand[\"Paris\"])                         # Should print 6500\n",
    "print(type(supply))                            # Should say <class 'dict'>"
   ]
  },
  {
   "cell_type": "code",
   "execution_count": 14,
   "id": "628ab76a-e6e7-4b3d-a5d4-c3300ccf5e03",
   "metadata": {},
   "outputs": [
    {
     "name": "stdout",
     "output_type": "stream",
     "text": [
      "Cities                                 object\n",
      "Cincinnati/  ",
      "Northern Kentucky hub    float64\n",
      "Alliance   ",
      "Fort Worth hub             float64\n",
      "Leipzig   ",
      "focus city                  float64\n",
      "Hyderabad focus city                  float64\n",
      "San Bernadino focus city              float64\n",
      "dtype: object\n"
     ]
    }
   ],
   "source": [
    "# We have a valid demand and Supply dictionary, we need to create one for the costs\n",
    "# Start with checking the types in the costs df\n",
    "print(costs_df.dtypes)"
   ]
  },
  {
   "cell_type": "code",
   "execution_count": 15,
   "id": "bc2d1b79-698d-489b-a82b-490f7f7a4826",
   "metadata": {},
   "outputs": [
    {
     "data": {
      "text/html": [
       "<div>\n",
       "<style scoped>\n",
       "    .dataframe tbody tr th:only-of-type {\n",
       "        vertical-align: middle;\n",
       "    }\n",
       "\n",
       "    .dataframe tbody tr th {\n",
       "        vertical-align: top;\n",
       "    }\n",
       "\n",
       "    .dataframe thead th {\n",
       "        text-align: right;\n",
       "    }\n",
       "</style>\n",
       "<table border=\"1\" class=\"dataframe\">\n",
       "  <thead>\n",
       "    <tr style=\"text-align: right;\">\n",
       "      <th></th>\n",
       "      <th>Cities</th>\n",
       "      <th>Cincinnati/NorthernKentuckyhub</th>\n",
       "      <th>AllianceFortWorthhub</th>\n",
       "      <th>Leipzigfocuscity</th>\n",
       "      <th>Hyderabadfocuscity</th>\n",
       "      <th>SanBernadinofocuscity</th>\n",
       "    </tr>\n",
       "  </thead>\n",
       "  <tbody>\n",
       "    <tr>\n",
       "      <th>0</th>\n",
       "      <td>Paris</td>\n",
       "      <td>1.6</td>\n",
       "      <td>NaN</td>\n",
       "      <td>0.5</td>\n",
       "      <td>1.1</td>\n",
       "      <td>NaN</td>\n",
       "    </tr>\n",
       "  </tbody>\n",
       "</table>\n",
       "</div>"
      ],
      "text/plain": [
       "  Cities  Cincinnati/NorthernKentuckyhub  AllianceFortWorthhub  \\\n",
       "0  Paris                             1.6                   NaN   \n",
       "\n",
       "   Leipzigfocuscity  Hyderabadfocuscity  SanBernadinofocuscity  \n",
       "0               0.5                 1.1                    NaN  "
      ]
     },
     "execution_count": 15,
     "metadata": {},
     "output_type": "execute_result"
    }
   ],
   "source": [
    "# Remove any non-printing characters and extra spaces\n",
    "costs_df.columns = costs_df.columns.str.replace(r'\\s+', '', regex=True)  # Remove all spaces\n",
    "costs_df.columns = costs_df.columns.str.replace(r'[^\\x00-\\x7F]+', '', regex=True)  # Remove non-ASCII characters\n",
    "\n",
    "# To ensure there are no leading/trailing spaces\n",
    "costs_df.columns = costs_df.columns.str.strip()\n",
    "\n",
    "costs_df.head(1)"
   ]
  },
  {
   "cell_type": "code",
   "execution_count": 16,
   "id": "726379cf-d100-410c-b1e4-645b866d4190",
   "metadata": {},
   "outputs": [
    {
     "data": {
      "text/html": [
       "<div>\n",
       "<style scoped>\n",
       "    .dataframe tbody tr th:only-of-type {\n",
       "        vertical-align: middle;\n",
       "    }\n",
       "\n",
       "    .dataframe tbody tr th {\n",
       "        vertical-align: top;\n",
       "    }\n",
       "\n",
       "    .dataframe thead th {\n",
       "        text-align: right;\n",
       "    }\n",
       "</style>\n",
       "<table border=\"1\" class=\"dataframe\">\n",
       "  <thead>\n",
       "    <tr style=\"text-align: right;\">\n",
       "      <th></th>\n",
       "      <th>Cities</th>\n",
       "      <th>CVG</th>\n",
       "      <th>AFW</th>\n",
       "      <th>Leipzig</th>\n",
       "      <th>Hyderabadfocuscity</th>\n",
       "      <th>SanBernadinofocuscity</th>\n",
       "    </tr>\n",
       "  </thead>\n",
       "  <tbody>\n",
       "    <tr>\n",
       "      <th>0</th>\n",
       "      <td>Paris</td>\n",
       "      <td>1.6</td>\n",
       "      <td>NaN</td>\n",
       "      <td>0.5</td>\n",
       "      <td>1.1</td>\n",
       "      <td>NaN</td>\n",
       "    </tr>\n",
       "    <tr>\n",
       "      <th>1</th>\n",
       "      <td>Cologne</td>\n",
       "      <td>1.5</td>\n",
       "      <td>NaN</td>\n",
       "      <td>0.5</td>\n",
       "      <td>1.0</td>\n",
       "      <td>NaN</td>\n",
       "    </tr>\n",
       "    <tr>\n",
       "      <th>2</th>\n",
       "      <td>Hanover</td>\n",
       "      <td>1.5</td>\n",
       "      <td>NaN</td>\n",
       "      <td>0.5</td>\n",
       "      <td>1.0</td>\n",
       "      <td>NaN</td>\n",
       "    </tr>\n",
       "    <tr>\n",
       "      <th>3</th>\n",
       "      <td>Bengaluru</td>\n",
       "      <td>NaN</td>\n",
       "      <td>NaN</td>\n",
       "      <td>1.5</td>\n",
       "      <td>0.5</td>\n",
       "      <td>NaN</td>\n",
       "    </tr>\n",
       "    <tr>\n",
       "      <th>4</th>\n",
       "      <td>Coimbatore</td>\n",
       "      <td>NaN</td>\n",
       "      <td>NaN</td>\n",
       "      <td>1.5</td>\n",
       "      <td>0.5</td>\n",
       "      <td>NaN</td>\n",
       "    </tr>\n",
       "  </tbody>\n",
       "</table>\n",
       "</div>"
      ],
      "text/plain": [
       "       Cities  CVG  AFW  Leipzig  Hyderabadfocuscity  SanBernadinofocuscity\n",
       "0       Paris  1.6  NaN      0.5                 1.1                    NaN\n",
       "1     Cologne  1.5  NaN      0.5                 1.0                    NaN\n",
       "2     Hanover  1.5  NaN      0.5                 1.0                    NaN\n",
       "3   Bengaluru  NaN  NaN      1.5                 0.5                    NaN\n",
       "4  Coimbatore  NaN  NaN      1.5                 0.5                    NaN"
      ]
     },
     "execution_count": 16,
     "metadata": {},
     "output_type": "execute_result"
    }
   ],
   "source": [
    "# I want to rename the column names to make life easier and match the hub names and focus cities with the other dfs\n",
    "costs_df.rename(columns={\n",
    "    'Cincinnati/NorthernKentuckyhub': 'CVG',\n",
    "    'AllianceFortWorthhub': 'AFW',\n",
    "    'Leipzigfocuscity': 'Leipzig',\n",
    "}, inplace=True)\n",
    "costs_df.head()"
   ]
  },
  {
   "cell_type": "code",
   "execution_count": 17,
   "id": "23e77643-201c-4424-9928-f316cebf9dff",
   "metadata": {},
   "outputs": [],
   "source": [
    "costs_df.set_index('Cities', inplace=True)"
   ]
  },
  {
   "cell_type": "code",
   "execution_count": 18,
   "id": "5e376c9b-5746-4465-a72f-57722a05c8ae",
   "metadata": {},
   "outputs": [
    {
     "name": "stdout",
     "output_type": "stream",
     "text": [
      "{('CVG', 'Paris'): 1.6, ('Leipzig', 'Paris'): 0.5, ('Hyderabadfocuscity', 'Paris'): 1.1, ('CVG', 'Cologne'): 1.5, ('Leipzig', 'Cologne'): 0.5, ('Hyderabadfocuscity', 'Cologne'): 1.0, ('CVG', 'Hanover'): 1.5, ('Leipzig', 'Hanover'): 0.5, ('Hyderabadfocuscity', 'Hanover'): 1.0, ('Leipzig', 'Bengaluru'): 1.5, ('Hyderabadfocuscity', 'Bengaluru'): 0.5, ('Leipzig', 'Coimbatore'): 1.5, ('Hyderabadfocuscity', 'Coimbatore'): 0.5, ('Leipzig', 'Delhi'): 1.5, ('Hyderabadfocuscity', 'Delhi'): 0.5, ('Leipzig', 'Mumbai'): 1.5, ('Hyderabadfocuscity', 'Mumbai'): 0.5, ('CVG', 'Cagliari'): 1.5, ('Leipzig', 'Cagliari'): 0.5, ('Hyderabadfocuscity', 'Cagliari'): 1.0, ('CVG', 'Catania'): 1.5, ('Leipzig', 'Catania'): 0.5, ('Hyderabadfocuscity', 'Catania'): 1.0, ('CVG', 'Milan'): 1.5, ('Leipzig', 'Milan'): 0.5, ('Hyderabadfocuscity', 'Milan'): 1.0, ('CVG', 'Rome'): 1.5, ('Leipzig', 'Rome'): 0.5, ('Hyderabadfocuscity', 'Rome'): 1.1, ('CVG', 'Katowice'): 1.4, ('Leipzig', 'Katowice'): 0.5, ('Hyderabadfocuscity', 'Katowice'): 1.0, ('CVG', 'Barcelona'): 1.5, ('Leipzig', 'Barcelona'): 0.5, ('Hyderabadfocuscity', 'Barcelona'): 1.0, ('CVG', 'Madrid'): 1.6, ('Leipzig', 'Madrid'): 0.5, ('Hyderabadfocuscity', 'Madrid'): 1.1, ('CVG', 'Castle Donington'): 1.4, ('Leipzig', 'Castle Donington'): 0.5, ('CVG', 'London'): 1.6, ('Leipzig', 'London'): 0.75, ('Hyderabadfocuscity', 'London'): 1.1, ('CVG', 'Mobile'): 0.5, ('AFW', 'Mobile'): 0.5, ('SanBernadinofocuscity', 'Mobile'): 0.5, ('CVG', 'Anchorage'): 1.3, ('AFW', 'Anchorage'): 1.0, ('SanBernadinofocuscity', 'Anchorage'): 0.7, ('CVG', 'Fairbanks'): 1.4, ('AFW', 'Fairbanks'): 1.0, ('SanBernadinofocuscity', 'Fairbanks'): 0.7, ('CVG', 'Phoenix'): 0.5, ('AFW', 'Phoenix'): 0.5, ('SanBernadinofocuscity', 'Phoenix'): 0.5, ('CVG', 'Los Angeles'): 0.5, ('AFW', 'Los Angeles'): 0.5, ('CVG', 'Ontario'): 0.5, ('AFW', 'Ontario'): 0.5, ('CVG', 'Riverside'): 0.5, ('AFW', 'Riverside'): 0.5, ('CVG', 'Sacramento'): 0.5, ('AFW', 'Sacramento'): 0.5, ('SanBernadinofocuscity', 'Sacramento'): 0.5, ('CVG', 'San Francisco'): 0.5, ('AFW', 'San Francisco'): 0.5, ('SanBernadinofocuscity', 'San Francisco'): 0.5, ('CVG', 'Stockton'): 0.5, ('AFW', 'Stockton'): 0.5, ('SanBernadinofocuscity', 'Stockton'): 0.5, ('CVG', 'Denver'): 0.5, ('AFW', 'Denver'): 0.5, ('SanBernadinofocuscity', 'Denver'): 0.5, ('CVG', 'Hartford'): 0.5, ('AFW', 'Hartford'): 0.5, ('Leipzig', 'Hartford'): 1.5, ('SanBernadinofocuscity', 'Hartford'): 0.5, ('CVG', 'Miami'): 0.5, ('AFW', 'Miami'): 0.5, ('SanBernadinofocuscity', 'Miami'): 0.7, ('CVG', 'Lakeland'): 0.5, ('AFW', 'Lakeland'): 0.5, ('SanBernadinofocuscity', 'Lakeland'): 0.7, ('CVG', 'Tampa'): 0.5, ('AFW', 'Tampa'): 0.5, ('SanBernadinofocuscity', 'Tampa'): 0.7, ('CVG', 'Atlanta'): 0.5, ('AFW', 'Atlanta'): 0.5, ('SanBernadinofocuscity', 'Atlanta'): 0.6, ('AFW', 'Honolulu'): 0.5, ('SanBernadinofocuscity', 'Honolulu'): 0.5, ('AFW', 'Kahului/Maui'): 0.5, ('SanBernadinofocuscity', 'Kahului/Maui'): 0.5, ('AFW', 'Kona'): 0.5, ('SanBernadinofocuscity', 'Kona'): 0.5, ('CVG', 'Chicago'): 0.5, ('AFW', 'Chicago'): 0.5, ('SanBernadinofocuscity', 'Chicago'): 0.5, ('CVG', 'Chicago/Rockford'): 0.5, ('AFW', 'Chicago/Rockford'): 0.5, ('SanBernadinofocuscity', 'Chicago/Rockford'): 0.5, ('CVG', 'Fort Wayne'): 0.5, ('AFW', 'Fort Wayne'): 0.5, ('SanBernadinofocuscity', 'Fort Wayne'): 0.5, ('CVG', 'South Bend'): 0.5, ('AFW', 'South Bend'): 0.5, ('SanBernadinofocuscity', 'South Bend'): 0.5, ('CVG', 'Des Moines'): 0.5, ('AFW', 'Des Moines'): 0.5, ('SanBernadinofocuscity', 'Des Moines'): 0.5, ('CVG', 'Wichita'): 0.5, ('AFW', 'Wichita'): 0.5, ('SanBernadinofocuscity', 'Wichita'): 0.5, ('CVG', 'New Orleans'): 0.5, ('AFW', 'New Orleans'): 0.5, ('SanBernadinofocuscity', 'New Orleans'): 0.5, ('CVG', 'Baltimore'): 0.5, ('AFW', 'Baltimore'): 0.5, ('Leipzig', 'Baltimore'): 1.5, ('SanBernadinofocuscity', 'Baltimore'): 0.7, ('CVG', 'Minneapolis'): 0.5, ('AFW', 'Minneapolis'): 0.5, ('SanBernadinofocuscity', 'Minneapolis'): 0.5, ('CVG', 'Kansas City'): 0.5, ('AFW', 'Kansas City'): 0.5, ('SanBernadinofocuscity', 'Kansas City'): 0.5, ('CVG', 'St. Louis'): 0.5, ('AFW', 'St. Louis'): 0.5, ('SanBernadinofocuscity', 'St. Louis'): 0.5, ('CVG', 'Omaha'): 0.5, ('AFW', 'Omaha'): 0.5, ('SanBernadinofocuscity', 'Omaha'): 0.5, ('CVG', 'Manchester'): 0.5, ('AFW', 'Manchester'): 0.5, ('Leipzig', 'Manchester'): 1.5, ('SanBernadinofocuscity', 'Manchester'): 0.7, ('CVG', 'Albuquerque'): 0.5, ('AFW', 'Albuquerque'): 0.5, ('SanBernadinofocuscity', 'Albuquerque'): 0.5, ('CVG', 'New York'): 0.5, ('AFW', 'New York'): 0.5, ('Leipzig', 'New York'): 1.6, ('SanBernadinofocuscity', 'New York'): 0.7, ('CVG', 'Charlotte'): 0.5, ('AFW', 'Charlotte'): 0.5, ('SanBernadinofocuscity', 'Charlotte'): 0.7, ('CVG', 'Toledo'): 0.5, ('AFW', 'Toledo'): 0.5, ('SanBernadinofocuscity', 'Toledo'): 0.5, ('CVG', 'Wilmington'): 0.5, ('AFW', 'Wilmington'): 0.5, ('SanBernadinofocuscity', 'Wilmington'): 0.7, ('CVG', 'Portland'): 0.5, ('AFW', 'Portland'): 0.5, ('SanBernadinofocuscity', 'Portland'): 0.5, ('CVG', 'Allentown'): 0.5, ('AFW', 'Allentown'): 0.5, ('Leipzig', 'Allentown'): 1.5, ('SanBernadinofocuscity', 'Allentown'): 0.7, ('CVG', 'Pittsburgh'): 0.5, ('AFW', 'Pittsburgh'): 0.5, ('SanBernadinofocuscity', 'Pittsburgh'): 0.6, ('CVG', 'San Juan'): 0.5, ('AFW', 'San Juan'): 0.5, ('SanBernadinofocuscity', 'San Juan'): 1.0, ('CVG', 'Nashville'): 0.5, ('AFW', 'Nashville'): 0.5, ('SanBernadinofocuscity', 'Nashville'): 0.5, ('CVG', 'Austin'): 0.5, ('AFW', 'Austin'): 0.25, ('SanBernadinofocuscity', 'Austin'): 0.5, ('CVG', 'Dallas/Fort Worth'): 0.5, ('SanBernadinofocuscity', 'Dallas/Fort Worth'): 0.5, ('CVG', 'Houston'): 0.5, ('AFW', 'Houston'): 0.25, ('SanBernadinofocuscity', 'Houston'): 0.5, ('CVG', 'San Antonio'): 0.5, ('AFW', 'San Antonio'): 0.25, ('SanBernadinofocuscity', 'San Antonio'): 0.5, ('CVG', 'Richmond'): 0.5, ('AFW', 'Richmond'): 0.5, ('SanBernadinofocuscity', 'Richmond'): 0.7, ('CVG', 'Seattle/Tacoma'): 0.5, ('AFW', 'Seattle/Tacoma'): 0.5, ('SanBernadinofocuscity', 'Seattle/Tacoma'): 0.5, ('CVG', 'Spokane'): 0.5, ('AFW', 'Spokane'): 0.5, ('SanBernadinofocuscity', 'Spokane'): 0.5, ('CVG', 'Leipzig'): 1.5, ('Leipzig', 'Hyderabad'): 1.6, ('CVG', 'San Bernadino'): 0.5, ('AFW', 'San Bernadino'): 0.5}\n"
     ]
    }
   ],
   "source": [
    "# Initialize the cost dictionary\n",
    "cost = {}\n",
    "\n",
    "# Iterate through the DataFrame\n",
    "for city in costs_df.index:\n",
    "    for supplier in costs_df.columns:\n",
    "        cost_var = costs_df.loc[city, supplier]\n",
    "        if pd.notna(cost_var):  # Skip NaN values\n",
    "            cost[(supplier, city)] = cost_var\n",
    "\n",
    "# Display the resulting cost dictionary\n",
    "print(cost)"
   ]
  },
  {
   "cell_type": "code",
   "execution_count": 19,
   "id": "fcf2035f-f42a-44ad-922f-239da039489d",
   "metadata": {},
   "outputs": [],
   "source": [
    "# Initialize the Problem\n",
    "prob = pulp.LpProblem(\"Amazon_Air_Minimize_Costs\", pulp.LpMinimize)"
   ]
  },
  {
   "cell_type": "code",
   "execution_count": 20,
   "id": "2739f3b6-daa7-490c-bba3-d7c1f3ba16d2",
   "metadata": {},
   "outputs": [],
   "source": [
    "# Define Variables\n",
    "# Decision variables: how much to ship from each supplier to each center\n",
    "x = pulp.LpVariable.dicts(\"ship\", cost.keys(), lowBound=0, cat=\"Continuous\")"
   ]
  },
  {
   "cell_type": "code",
   "execution_count": 21,
   "id": "23115380-b53c-4736-9dc5-9d4670332cce",
   "metadata": {},
   "outputs": [],
   "source": [
    "# Objective Function\n",
    "prob += pulp.lpSum([cost[(i, j)] * x[(i, j)] for (i, j) in cost]), \"Total_Shipping_Cost\""
   ]
  },
  {
   "cell_type": "code",
   "execution_count": 22,
   "id": "4ab57af7-d49a-4086-952a-ca49d85b44fd",
   "metadata": {},
   "outputs": [],
   "source": [
    "total_supply = sum(supply.values())\n",
    "total_demand = sum(demand.values())"
   ]
  },
  {
   "cell_type": "code",
   "execution_count": 23,
   "id": "1e81065c-49af-4123-bc7c-8533cf909d88",
   "metadata": {},
   "outputs": [],
   "source": [
    "# Smaller epsilon margin\n",
    "epsilon = 0.00 * total_supply  \n",
    "\n",
    "# Scaled supply\n",
    "scaling_factor = 0.1\n",
    "scaled_supply = {i: supply[i] * scaling_factor for i in supply}\n",
    "scaled_demand = {j: demand[j] * scaling_factor for j in demand}\n",
    "\n",
    "# Adjust constraints accordingly\n",
    "\n",
    "# Supply constraints\n",
    "for i in scaled_supply:\n",
    "    prob += pulp.lpSum([x[(i, j)] for (i, j) in cost if i == i]) <= scaled_supply[i] + epsilon, f\"Supply_Cap_{i}\"\n",
    "\n",
    "# Demand constraints\n",
    "for j in scaled_demand:\n",
    "    prob += pulp.lpSum([x[(i, j)] for (i, j) in cost if j == j]) >= scaled_demand[j] - epsilon, f\"Demand_{j}\""
   ]
  },
  {
   "cell_type": "code",
   "execution_count": 24,
   "id": "eb23e8ce-e574-42c4-b5d4-eb8f705ca853",
   "metadata": {
    "scrolled": true
   },
   "outputs": [
    {
     "name": "stdout",
     "output_type": "stream",
     "text": [
      "Welcome to the CBC MILP Solver \n",
      "Version: 2.10.3 \n",
      "Build Date: Dec 15 2019 \n",
      "\n",
      "command line - /opt/anaconda3/lib/python3.11/site-packages/pulp/apis/../solverdir/cbc/osx/i64/cbc /var/folders/cn/5rls9kg91b35jqphwksc14700000gn/T/ee0463ba814d4753b606053d40fb95d8-pulp.mps -timeMode elapsed -branch -printingOptions all -solution /var/folders/cn/5rls9kg91b35jqphwksc14700000gn/T/ee0463ba814d4753b606053d40fb95d8-pulp.sol (default strategy 1)\n",
      "At line 2 NAME          MODEL\n",
      "At line 3 ROWS\n",
      "At line 75 COLUMNS\n",
      "At line 13708 RHS\n",
      "At line 13779 BOUNDS\n",
      "At line 13780 ENDATA\n",
      "Problem MODEL has 70 rows, 192 columns and 13440 elements\n",
      "Coin0008I MODEL read with 0 errors\n",
      "Option for timeMode changed from cpu to elapsed\n",
      "Presolve 0 (-70) rows, 0 (-192) columns and 0 (-13440) elements\n",
      "Empty problem - 0 rows, 0 columns and 0 elements\n",
      "Optimal - objective value 475\n",
      "After Postsolve, objective 475, infeasibilities - dual 0 (0), primal 0 (0)\n",
      "Optimal objective 475 - 0 iterations time 0.002, Presolve 0.00\n",
      "Option for printingOptions changed from normal to all\n",
      "Total time (CPU seconds):       0.00   (Wallclock seconds):       0.01\n",
      "\n"
     ]
    },
    {
     "data": {
      "text/plain": [
       "1"
      ]
     },
     "execution_count": 24,
     "metadata": {},
     "output_type": "execute_result"
    }
   ],
   "source": [
    "# Solve\n",
    "prob.solve()"
   ]
  },
  {
   "cell_type": "code",
   "execution_count": 25,
   "id": "4b18d76e-1456-458a-a6d0-8169bf2e13d5",
   "metadata": {},
   "outputs": [
    {
     "name": "stdout",
     "output_type": "stream",
     "text": [
      "Status: Optimal\n",
      "Total Minimized Cost: $475.00\n",
      "\n",
      "Shipping Plan:\n",
      "AFW -> Austin: 1900.00 tons\n"
     ]
    }
   ],
   "source": [
    "# Results\n",
    "print(\"Status:\", pulp.LpStatus[prob.status])\n",
    "print(f\"Total Minimized Cost: ${pulp.value(prob.objective):,.2f}\\n\")\n",
    "\n",
    "print(\"Shipping Plan:\")\n",
    "for (i, j) in x:\n",
    "    if x[(i, j)].varValue > 0:\n",
    "        print(f\"{i} -> {j}: {x[(i, j)].varValue:.2f} tons\")\n",
    "\n",
    "# Okay, So. I need that status to be optimal, as i am trying to optimize things\n",
    "# It technically runs correctly, threre is no error\n",
    "# The problem is that when i go to check how much is shipped (shown a bit below) its 0 when it should NOT be\n",
    "# I cant figure our why its shipping nothing, there is plenty of supply for the demand and even if that wasnt the case "
   ]
  },
  {
   "cell_type": "code",
   "execution_count": null,
   "id": "d9bf6fc7-6c2b-469f-9a6c-5a473a0d39ff",
   "metadata": {},
   "outputs": [],
   "source": []
  }
 ],
 "metadata": {
  "kernelspec": {
   "display_name": "Python 3 (ipykernel)",
   "language": "python",
   "name": "python3"
  },
  "language_info": {
   "codemirror_mode": {
    "name": "ipython",
    "version": 3
   },
   "file_extension": ".py",
   "mimetype": "text/x-python",
   "name": "python",
   "nbconvert_exporter": "python",
   "pygments_lexer": "ipython3",
   "version": "3.11.7"
  }
 },
 "nbformat": 4,
 "nbformat_minor": 5
}
